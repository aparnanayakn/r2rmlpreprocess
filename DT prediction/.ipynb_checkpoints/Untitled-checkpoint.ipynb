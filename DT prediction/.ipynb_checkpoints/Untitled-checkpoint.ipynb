{
 "cells": [
  {
   "cell_type": "code",
   "execution_count": 23,
   "metadata": {},
   "outputs": [
    {
     "name": "stdout",
     "output_type": "stream",
     "text": [
      "Processing file: input7.json\n",
      "Loaded JSON data:\n",
      "{'persons': [{'firstname': 'John', 'lastname': 'Doe', 'lang': 'en', 'num': 3, 'dt': 'xsd:integer'}, {'firstname': 'Jane', 'lastname': 'Smith', 'lang': 'fr', 'num': 3.14, 'dt': 'xsd:decimal'}]}\n",
      "Extracted keys and values:\n",
      "['firstname', 'John', 'lastname', 'Doe', 'lang', 'en', 'num', 3, 'dt', 'xsd:integer', 'firstname', 'Jane', 'lastname', 'Smith', 'lang', 'fr', 'num', 3.14, 'dt', 'xsd:decimal']\n"
     ]
    },
    {
     "ename": "FileNotFoundError",
     "evalue": "[Errno 2] No such file or directory: 'testanno1/input7.csv'",
     "output_type": "error",
     "traceback": [
      "\u001b[0;31m---------------------------------------------------------------------------\u001b[0m",
      "\u001b[0;31mFileNotFoundError\u001b[0m                         Traceback (most recent call last)",
      "\u001b[0;32m<ipython-input-23-a19451799437>\u001b[0m in \u001b[0;36m<module>\u001b[0;34m\u001b[0m\n\u001b[1;32m     51\u001b[0m     \u001b[0mfileDir\u001b[0m \u001b[0;34m=\u001b[0m \u001b[0mos\u001b[0m\u001b[0;34m.\u001b[0m\u001b[0mpath\u001b[0m\u001b[0;34m.\u001b[0m\u001b[0mjoin\u001b[0m\u001b[0;34m(\u001b[0m\u001b[0mtestOutput\u001b[0m\u001b[0;34m,\u001b[0m \u001b[0mfileName\u001b[0m\u001b[0;34m+\u001b[0m\u001b[0;34m\".csv\"\u001b[0m\u001b[0;34m)\u001b[0m\u001b[0;34m\u001b[0m\u001b[0;34m\u001b[0m\u001b[0m\n\u001b[1;32m     52\u001b[0m     \u001b[0;31m# Write the data to the CSV file\u001b[0m\u001b[0;34m\u001b[0m\u001b[0;34m\u001b[0m\u001b[0;34m\u001b[0m\u001b[0m\n\u001b[0;32m---> 53\u001b[0;31m     \u001b[0mwritingintoFile\u001b[0m\u001b[0;34m(\u001b[0m\u001b[0mfileDir\u001b[0m\u001b[0;34m,\u001b[0m \u001b[0mrows\u001b[0m\u001b[0;34m,\u001b[0m \u001b[0mcolumns\u001b[0m\u001b[0;34m,\u001b[0m \u001b[0mkeys\u001b[0m\u001b[0;34m,\u001b[0m \u001b[0mvalues\u001b[0m\u001b[0;34m)\u001b[0m\u001b[0;34m\u001b[0m\u001b[0;34m\u001b[0m\u001b[0m\n\u001b[0m\u001b[1;32m     54\u001b[0m \u001b[0;34m\u001b[0m\u001b[0m\n\u001b[1;32m     55\u001b[0m \u001b[0;31m# Print a confirmation message\u001b[0m\u001b[0;34m\u001b[0m\u001b[0;34m\u001b[0m\u001b[0;34m\u001b[0m\u001b[0m\n",
      "\u001b[0;32m<ipython-input-22-532fcd7232df>\u001b[0m in \u001b[0;36mwritingintoFile\u001b[0;34m(fileName, rows, column, keys, values)\u001b[0m\n\u001b[1;32m      7\u001b[0m \u001b[0;34m\u001b[0m\u001b[0m\n\u001b[1;32m      8\u001b[0m     \u001b[0;31m# Save the DataFrame as a CSV file\u001b[0m\u001b[0;34m\u001b[0m\u001b[0;34m\u001b[0m\u001b[0;34m\u001b[0m\u001b[0m\n\u001b[0;32m----> 9\u001b[0;31m     \u001b[0mDF\u001b[0m\u001b[0;34m.\u001b[0m\u001b[0mto_csv\u001b[0m\u001b[0;34m(\u001b[0m\u001b[0mfileName\u001b[0m\u001b[0;34m,\u001b[0m \u001b[0mindex\u001b[0m\u001b[0;34m=\u001b[0m\u001b[0;32mFalse\u001b[0m\u001b[0;34m)\u001b[0m\u001b[0;34m\u001b[0m\u001b[0;34m\u001b[0m\u001b[0m\n\u001b[0m",
      "\u001b[0;32m~/.local/lib/python3.6/site-packages/pandas/core/generic.py\u001b[0m in \u001b[0;36mto_csv\u001b[0;34m(self, path_or_buf, sep, na_rep, float_format, columns, header, index, index_label, mode, encoding, compression, quoting, quotechar, line_terminator, chunksize, date_format, doublequote, escapechar, decimal, errors)\u001b[0m\n\u001b[1;32m   3168\u001b[0m             \u001b[0mdecimal\u001b[0m\u001b[0;34m=\u001b[0m\u001b[0mdecimal\u001b[0m\u001b[0;34m,\u001b[0m\u001b[0;34m\u001b[0m\u001b[0;34m\u001b[0m\u001b[0m\n\u001b[1;32m   3169\u001b[0m         )\n\u001b[0;32m-> 3170\u001b[0;31m         \u001b[0mformatter\u001b[0m\u001b[0;34m.\u001b[0m\u001b[0msave\u001b[0m\u001b[0;34m(\u001b[0m\u001b[0;34m)\u001b[0m\u001b[0;34m\u001b[0m\u001b[0;34m\u001b[0m\u001b[0m\n\u001b[0m\u001b[1;32m   3171\u001b[0m \u001b[0;34m\u001b[0m\u001b[0m\n\u001b[1;32m   3172\u001b[0m         \u001b[0;32mif\u001b[0m \u001b[0mpath_or_buf\u001b[0m \u001b[0;32mis\u001b[0m \u001b[0;32mNone\u001b[0m\u001b[0;34m:\u001b[0m\u001b[0;34m\u001b[0m\u001b[0;34m\u001b[0m\u001b[0m\n",
      "\u001b[0;32m~/.local/lib/python3.6/site-packages/pandas/io/formats/csvs.py\u001b[0m in \u001b[0;36msave\u001b[0;34m(self)\u001b[0m\n\u001b[1;32m    188\u001b[0m                 \u001b[0mencoding\u001b[0m\u001b[0;34m=\u001b[0m\u001b[0mself\u001b[0m\u001b[0;34m.\u001b[0m\u001b[0mencoding\u001b[0m\u001b[0;34m,\u001b[0m\u001b[0;34m\u001b[0m\u001b[0;34m\u001b[0m\u001b[0m\n\u001b[1;32m    189\u001b[0m                 \u001b[0merrors\u001b[0m\u001b[0;34m=\u001b[0m\u001b[0mself\u001b[0m\u001b[0;34m.\u001b[0m\u001b[0merrors\u001b[0m\u001b[0;34m,\u001b[0m\u001b[0;34m\u001b[0m\u001b[0;34m\u001b[0m\u001b[0m\n\u001b[0;32m--> 190\u001b[0;31m                 \u001b[0mcompression\u001b[0m\u001b[0;34m=\u001b[0m\u001b[0mdict\u001b[0m\u001b[0;34m(\u001b[0m\u001b[0mself\u001b[0m\u001b[0;34m.\u001b[0m\u001b[0mcompression_args\u001b[0m\u001b[0;34m,\u001b[0m \u001b[0mmethod\u001b[0m\u001b[0;34m=\u001b[0m\u001b[0mself\u001b[0m\u001b[0;34m.\u001b[0m\u001b[0mcompression\u001b[0m\u001b[0;34m)\u001b[0m\u001b[0;34m,\u001b[0m\u001b[0;34m\u001b[0m\u001b[0;34m\u001b[0m\u001b[0m\n\u001b[0m\u001b[1;32m    191\u001b[0m             )\n\u001b[1;32m    192\u001b[0m             \u001b[0mclose\u001b[0m \u001b[0;34m=\u001b[0m \u001b[0;32mTrue\u001b[0m\u001b[0;34m\u001b[0m\u001b[0;34m\u001b[0m\u001b[0m\n",
      "\u001b[0;32m~/.local/lib/python3.6/site-packages/pandas/io/common.py\u001b[0m in \u001b[0;36mget_handle\u001b[0;34m(path_or_buf, mode, encoding, compression, memory_map, is_text, errors)\u001b[0m\n\u001b[1;32m    491\u001b[0m         \u001b[0;32mif\u001b[0m \u001b[0mencoding\u001b[0m\u001b[0;34m:\u001b[0m\u001b[0;34m\u001b[0m\u001b[0;34m\u001b[0m\u001b[0m\n\u001b[1;32m    492\u001b[0m             \u001b[0;31m# Encoding\u001b[0m\u001b[0;34m\u001b[0m\u001b[0;34m\u001b[0m\u001b[0;34m\u001b[0m\u001b[0m\n\u001b[0;32m--> 493\u001b[0;31m             \u001b[0mf\u001b[0m \u001b[0;34m=\u001b[0m \u001b[0mopen\u001b[0m\u001b[0;34m(\u001b[0m\u001b[0mpath_or_buf\u001b[0m\u001b[0;34m,\u001b[0m \u001b[0mmode\u001b[0m\u001b[0;34m,\u001b[0m \u001b[0mencoding\u001b[0m\u001b[0;34m=\u001b[0m\u001b[0mencoding\u001b[0m\u001b[0;34m,\u001b[0m \u001b[0merrors\u001b[0m\u001b[0;34m=\u001b[0m\u001b[0merrors\u001b[0m\u001b[0;34m,\u001b[0m \u001b[0mnewline\u001b[0m\u001b[0;34m=\u001b[0m\u001b[0;34m\"\"\u001b[0m\u001b[0;34m)\u001b[0m\u001b[0;34m\u001b[0m\u001b[0;34m\u001b[0m\u001b[0m\n\u001b[0m\u001b[1;32m    494\u001b[0m         \u001b[0;32melif\u001b[0m \u001b[0mis_text\u001b[0m\u001b[0;34m:\u001b[0m\u001b[0;34m\u001b[0m\u001b[0;34m\u001b[0m\u001b[0m\n\u001b[1;32m    495\u001b[0m             \u001b[0;31m# No explicit encoding\u001b[0m\u001b[0;34m\u001b[0m\u001b[0;34m\u001b[0m\u001b[0;34m\u001b[0m\u001b[0m\n",
      "\u001b[0;31mFileNotFoundError\u001b[0m: [Errno 2] No such file or directory: 'testanno1/input7.csv'"
     ]
    }
   ],
   "source": [
    "import os\n",
    "import json\n",
    "\n",
    "# Assume this is the directory containing your JSON files\n",
    "testcaseDir = 'annotations/'\n",
    "testOutput = 'testoutput/'\n",
    "# List all JSON files in the directory\n",
    "json_files = [pos_json for pos_json in os.listdir(testcaseDir) if pos_json.endswith('.json')]\n",
    "\n",
    " # Define the function to traverse and extract data\n",
    "def accessJSON(data):\n",
    "    for key, value in data.items():\n",
    "        if isinstance(value, (str, int, float, bool)):\n",
    "            stack.append(key)\n",
    "            stack.append(value)\n",
    "        elif isinstance(value, dict):\n",
    "            accessJSON(value)\n",
    "        elif isinstance(value, list):\n",
    "            for val in value:\n",
    "                if isinstance(val, dict):\n",
    "                    accessJSON(val)\n",
    "                    \n",
    "# Process each JSON file\n",
    "for index, js in enumerate(json_files):\n",
    "    with open(os.path.join(testcaseDir, js)) as json_file:\n",
    "        s = json_file.read()\n",
    "        s = s.replace('\\'', '\\\"')\n",
    "        data = json.loads(s)  # Load JSON data\n",
    "    fileName = (os.path.splitext(js)[0])\n",
    "\n",
    "    print(f\"Processing file: {js}\")\n",
    "    print(\"Loaded JSON data:\")\n",
    "    print(data)\n",
    "\n",
    "    # Initialize stack to hold keys and values\n",
    "    stack = []\n",
    "\n",
    "    # Call the function to extract keys and values\n",
    "    accessJSON(data)\n",
    "\n",
    "    # Print the extracted keys and values\n",
    "    print(\"Extracted keys and values:\")\n",
    "    print(stack)\n",
    "    # Now use the previous stack to separate keys and values\n",
    "    keys, values = seperatekeyvalues(stack)\n",
    "\n",
    "    # Find the number of rows and columns\n",
    "    rows, columns = findingrowscolumns(keys)\n",
    "    \n",
    "    # Define the output CSV file name\n",
    "    fileDir = os.path.join(testOutput, fileName+\".csv\")\n",
    "    # Write the data to the CSV file\n",
    "    writingintoFile(fileDir, rows, columns, keys, values)\n",
    "\n",
    "# Print a confirmation message\n",
    "    print(f\"Data has been successfully written to {outputFileName}\")\n",
    "# Print the results\n",
    "    print(\"Number of rows:\", rows)\n",
    "    print(\"Number of columns:\", columns)\n",
    "    print(\"Keys:\", keys)\n",
    "    print(\"Values:\", values)"
   ]
  },
  {
   "cell_type": "code",
   "execution_count": 21,
   "metadata": {},
   "outputs": [],
   "source": [
    "\n",
    "def findingrowscolumns(keys):\n",
    "    start = ''\n",
    "    ei = 0\n",
    "    count = 0\n",
    "\n",
    "    for i in range(len(keys)):\n",
    "        if start == '':\n",
    "            start = keys[i]\n",
    "            si = 0\n",
    "        elif keys[i] == start:\n",
    "            end = keys[i-1]\n",
    "            ei = i\n",
    "            break\n",
    "        else:\n",
    "            ei = i\n",
    "\n",
    "    j = ei + 1\n",
    "    count = 1\n",
    "    for i in range(len(keys)):\n",
    "        if j >= len(keys):\n",
    "            break\n",
    "        for k in range(ei):\n",
    "            if not comparekeys(keys[k], keys[k+ei]):\n",
    "                print(\"Keys are not of same length\")\n",
    "        j = j + ei\n",
    "        count = count + 1\n",
    "\n",
    "    if j == ei + 1:\n",
    "        return count, ei + 1\n",
    "    elif ei == 0:\n",
    "        return 0, 0\n",
    "    else:\n",
    "        return count, ei\n",
    "\n",
    "def comparekeys(w1, w2):\n",
    "    return w1 == w2\n",
    "\n",
    "def seperatekeyvalues(stackelements):\n",
    "    keys = []\n",
    "    values = []\n",
    "\n",
    "    for i in range(len(stackelements)):\n",
    "        if i % 2 == 0:\n",
    "            keys.append(stackelements[i])\n",
    "        else:\n",
    "            values.append(stackelements[i])\n",
    "    return keys, values"
   ]
  },
  {
   "cell_type": "code",
   "execution_count": 18,
   "metadata": {},
   "outputs": [
    {
     "name": "stdout",
     "output_type": "stream",
     "text": [
      "Number of rows: 2\n",
      "Number of columns: 5\n",
      "Keys: ['firstname', 'lastname', 'lang', 'num', 'dt', 'firstname', 'lastname', 'lang', 'num', 'dt']\n",
      "Values: ['John', 'Doe', 'en', 3, '', 'Jane', 'Smith', 'fr', '3.14', '']\n"
     ]
    }
   ],
   "source": []
  },
  {
   "cell_type": "code",
   "execution_count": 22,
   "metadata": {},
   "outputs": [],
   "source": [
    "def writingintoFile(fileName, rows, column, keys, values):\n",
    "    # Reshape the values into a 2D array\n",
    "    a = np.array(values).reshape(rows, column)\n",
    "    \n",
    "    # Convert the array into a DataFrame using the keys as column headers\n",
    "    DF = pd.DataFrame(a, columns=keys[:column])\n",
    "    \n",
    "    # Save the DataFrame as a CSV file\n",
    "    DF.to_csv(fileName, index=False)"
   ]
  },
  {
   "cell_type": "code",
   "execution_count": null,
   "metadata": {},
   "outputs": [],
   "source": []
  }
 ],
 "metadata": {
  "kernelspec": {
   "display_name": "KGExperiment",
   "language": "python",
   "name": "kgexperiment"
  },
  "language_info": {
   "codemirror_mode": {
    "name": "ipython",
    "version": 3
   },
   "file_extension": ".py",
   "mimetype": "text/x-python",
   "name": "python",
   "nbconvert_exporter": "python",
   "pygments_lexer": "ipython3",
   "version": "3.6.9"
  }
 },
 "nbformat": 4,
 "nbformat_minor": 4
}
