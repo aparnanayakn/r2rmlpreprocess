{
 "metadata": {
  "language_info": {
   "codemirror_mode": {
    "name": "ipython",
    "version": 3
   },
   "file_extension": ".py",
   "mimetype": "text/x-python",
   "name": "python",
   "nbconvert_exporter": "python",
   "pygments_lexer": "ipython3",
   "version": "3.6.9-final"
  },
  "orig_nbformat": 2,
  "kernelspec": {
   "name": "kgexperiment",
   "display_name": "KGExperiment",
   "language": "python"
  }
 },
 "nbformat": 4,
 "nbformat_minor": 2,
 "cells": [
  {
   "cell_type": "code",
   "execution_count": 1,
   "metadata": {},
   "outputs": [],
   "source": [
    "import json\n",
    "import re\n",
    "import pandas as pd\n",
    "import numpy as np"
   ]
  },
  {
   "cell_type": "code",
   "execution_count": 2,
   "metadata": {},
   "outputs": [],
   "source": [
    "#Reading data\n",
    "with open(\"input1.json\") as f:\n",
    "    data = json.loads(f.read())"
   ]
  },
  {
   "cell_type": "code",
   "execution_count": 3,
   "metadata": {},
   "outputs": [],
   "source": [
    "#url regular expression\n",
    "urlRE = re.compile(r\"(?i)\\b((?:https?://|www\\d{0,3}[.]|[a-z0-9.\\-]+[.][a-z]{2,4}/)(?:[^\\s()<>]+|\\(([^\\s()<>]+|(\\([^\\s()<>]+\\)))*\\))+(?:\\(([^\\s()<>]+|(\\([^\\s()<>]+\\)))*\\)|[^\\s`!()\\[\\]{};:'\\\".,<>?«»“”‘’]))\")"
   ]
  },
  {
   "cell_type": "code",
   "execution_count": 4,
   "metadata": {},
   "outputs": [],
   "source": [
    "#accessing nested\n",
    "#1st JSON object\n",
    "def accessJSON(data):\n",
    "    global c\n",
    "    for key,value in data.items():\n",
    "        if(type(value)==type(str())  or type(value)==type(int())):\n",
    "            stack.append(key)\n",
    "            stack.append(value)\n",
    "            if(key.lower()==\"dt\"):\n",
    "                i=stack.pop()\n",
    "                if(i.lower()==\"int\" or i.lower() == \"dec\" or i.lower() ==\"str\" or i.lower()==\"bool\" or i.lower() == \"integer\" or i.lower() ==\"decimal\"  or i.lower() ==\"string\" or i.lower()==\"boolean\"):\n",
    "                    if(i.lower()==\"int\" or i.lower()==\"integer\"):\n",
    "                        i=\"xsd:integer\"\n",
    "                    elif(i.lower()==\"dec\" or i.lower() == \"decimal\"):\n",
    "                        i=\"xsd:decimal\"\n",
    "                    elif(i.lower()==\"bool\" or i.lower() == \"boolean\"):\n",
    "                        i=\"xsd:boolean\"\n",
    "                    else:\n",
    "                        i=\"xsd:string\"\n",
    "                elif(re.search(urlRE,i.lower())):\n",
    "                        res = re.findall(r'#',i) \n",
    "                        i=\"xsd:\"+i[(i.index('#')+1):]\n",
    "                stack.append(i)\n",
    "\n",
    "        if type(value) == type(dict()):\n",
    "            accessJSON(value)\n",
    "        elif type(value) == type(list()):\n",
    "            c=c+1\n",
    "            if(c==2):\n",
    "                break\n",
    "            for val in value:\n",
    "                if type(val) == type(str()):\n",
    "                    pass\n",
    "                elif type(val) == type(list()):\n",
    "                    pass\n",
    "                else:\n",
    "                    accessJSON(val)"
   ]
  },
  {
   "cell_type": "code",
   "execution_count": 5,
   "metadata": {},
   "outputs": [],
   "source": [
    "def seperatekeyvalues(stackelements):\n",
    "    keys = []\n",
    "    values = []\n",
    "\n",
    "    for i in range(len(stackelements)):\n",
    "        if(i%2==0):\n",
    "            keys.append(stackelements[i])\n",
    "        else:\n",
    "            values.append(stackelements[i])\n",
    "    return keys, values"
   ]
  },
  {
   "cell_type": "code",
   "execution_count": 6,
   "metadata": {},
   "outputs": [],
   "source": [
    "def comparekeys(w1,w2):\n",
    "    if(w1==w2):\n",
    "        return True\n",
    "    else:\n",
    "        return False"
   ]
  },
  {
   "cell_type": "code",
   "execution_count": 7,
   "metadata": {},
   "outputs": [],
   "source": [
    "def findingrowscolumns(keys):\n",
    "    start=''\n",
    "    ei=0\n",
    "    count = 0\n",
    "    for i in range(len(keys)):\n",
    "        if(start==''):\n",
    "            start=keys[i]\n",
    "            si=i\n",
    "        elif(keys[i]==start):\n",
    "            end=keys[i-1]\n",
    "            ei=i-1\n",
    "            break   \n",
    "\n",
    "    j=0\n",
    "    count = 0\n",
    "    for i in range(len(keys)):\n",
    "        if(j >= len(keys)):\n",
    "            break\n",
    "        for k in range(ei+1):\n",
    "            if(comparekeys(keys[k],keys[k+ei+1])==False):\n",
    "                print(\"Keys are not of same length\")\n",
    "        j=j+ei+1\n",
    "        count=count+1\n",
    "    return count, (ei+1)"
   ]
  },
  {
   "cell_type": "code",
   "execution_count": 8,
   "metadata": {},
   "outputs": [],
   "source": [
    "def writingintoFile(fileName, rows, column,keys, values):\n",
    "    a=np.array(values).reshape(rows, column)\n",
    "    # convert array into dataframe \n",
    "    DF = pd.DataFrame(a, columns=keys[0:column]) \n",
    "    # save the dataframe as a csv file \n",
    "    DF.to_csv(fileName,index = False)"
   ]
  },
  {
   "cell_type": "code",
   "execution_count": 9,
   "metadata": {},
   "outputs": [],
   "source": [
    "def accessJSONLT(data):\n",
    "    global c\n",
    "    for key,value in data.items():       \n",
    "        if(type(value) == type(str()) and c==2):\n",
    "            stackLG.append(key)\n",
    "            stackLG.append(value)\n",
    "        if type(value) == type(dict()):\n",
    "            accessJSONLT(value)\n",
    "        elif type(value) == type(list()):\n",
    "            c=c+1\n",
    "            if(c == 2):\n",
    "                if(key.lower()!=\"languages\"):\n",
    "                    print(\"Error! Required language tag here!\")\n",
    "            for val in value:\n",
    "                if type(val) == type(str()):\n",
    "                    pass\n",
    "                elif type(val) == type(list()):\n",
    "                    pass\n",
    "                else:\n",
    "                    accessJSONLT(val)\n"
   ]
  },
  {
   "cell_type": "code",
   "execution_count": 19,
   "metadata": {},
   "outputs": [],
   "source": [
    "def mergeDataset():\n",
    "    df1 = pd.read_csv(\"data1.csv\")\n",
    "    header1=df1.columns.tolist()\n",
    "\n",
    "    df2 = pd.read_csv(\"data2.csv\")\n",
    "    header2=df2.columns.tolist()\n",
    "\n",
    "    count=0\n",
    "    matchedHeader = []\n",
    "    nextHeader = []\n",
    "\n",
    "    for i in header1:\n",
    "        for j in range(len(header2)):\n",
    "            if(i==header2[j]):\n",
    "                matchedHeader.append(i)\n",
    "                count=count+1\n",
    "                nextHeader.append(header2[j+1])\n",
    "            if(count>=2):\n",
    "                break\n",
    "\n",
    "    res = df1.merge(df2, how='inner', left_on=[matchedHeader[0]], right_on=[matchedHeader[0]])\n",
    "\n",
    "    return res"
   ]
  },
  {
   "cell_type": "code",
   "execution_count": 17,
   "metadata": {},
   "outputs": [],
   "source": [
    "def changeLanguagetag(res):\n",
    "    lTags = pd.read_csv(\"ltgs.csv\")\n",
    "\n",
    "    header=res.columns.tolist()\n",
    "\n",
    "    langColumn = \"language\"\n",
    "    for i in (header):\n",
    "        if header==\"lang\":\n",
    "           langcolumn = \"lang\"\n",
    "           break\n",
    "\n",
    "    languagePresent=res[[langColumn]].squeeze()\n",
    "\n",
    "    langNew = []\n",
    "\n",
    "    for i in range(len(languagePresent)):\n",
    "        for j in range(len(lTags)):\n",
    "            lp=str(languagePresent[i])\n",
    "            if(str(lTags.loc[j,\"Language\"]).lower() == lp.lower()):\n",
    "                languagePresent[i] = (lTags.loc[j,\"tag\"])\n",
    "\n",
    "    res[[langColumn]]=languagePresent\n",
    "\n",
    "    return res"
   ]
  },
  {
   "cell_type": "code",
   "execution_count": 22,
   "metadata": {},
   "outputs": [],
   "source": [
    "stack=[]\n",
    "c=0\n",
    "accessJSON(data) #preprocess the datatype to required format\n",
    "k,v=seperatekeyvalues(stack)\n",
    "rows,columns=findingrowscolumns(k)\n",
    "writingintoFile(\"data1.csv\", rows, columns, k, v)   #writes datatype modified column to file\n",
    "\n",
    "flag=0\n",
    "#checking for language tag if any as another json object\n",
    "stackLG=[]\n",
    "c=0\n",
    "accessJSONLT(data)\n",
    "if(stackLG):\n",
    "    k,v=seperatekeyvalues(stackLG)\n",
    "    rows,columns=findingrowscolumns(k)\n",
    "    writingintoFile(\"data2.csv\", rows, columns, k, v)   #writes language tags to another file\n",
    "    flag=1    \n",
    "\n",
    "if(flag==1):\n",
    "    finalDF=mergeDataset()\n",
    "else:\n",
    "    finalDF = pd.read_csv(\"data1.csv\")\n",
    "\n",
    "finalDF = changeLanguagetag(finalDF)\n",
    "\n",
    "\n",
    "finalDF.to_csv(\"cleanedData.csv\")"
   ]
  }
 ]
}