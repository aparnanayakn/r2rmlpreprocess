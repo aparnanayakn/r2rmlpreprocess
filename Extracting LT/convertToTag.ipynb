{
 "metadata": {
  "language_info": {
   "codemirror_mode": {
    "name": "ipython",
    "version": 3
   },
   "file_extension": ".py",
   "mimetype": "text/x-python",
   "name": "python",
   "nbconvert_exporter": "python",
   "pygments_lexer": "ipython3",
   "version": "3.6.9-final"
  },
  "orig_nbformat": 2,
  "kernelspec": {
   "name": ".deeplearningclass",
   "display_name": ".deeplearningClass",
   "language": "python"
  }
 },
 "nbformat": 4,
 "nbformat_minor": 2,
 "cells": [
  {
   "cell_type": "code",
   "execution_count": 1,
   "metadata": {},
   "outputs": [],
   "source": [
    "import csv \n",
    "import pandas as pd"
   ]
  },
  {
   "cell_type": "code",
   "execution_count": 34,
   "metadata": {},
   "outputs": [],
   "source": [
    "df=pd.read_csv(\"input.csv\")\n",
    "df.head()\n",
    "\n",
    "langugePresent=df.lang.astype(str)"
   ]
  },
  {
   "cell_type": "code",
   "execution_count": 12,
   "metadata": {},
   "outputs": [
    {
     "output_type": "execute_result",
     "data": {
      "text/plain": [
       "           Language     Tag\n",
       "0               NaN     NaN\n",
       "1         Abkhazian      ab\n",
       "2              Afar      aa\n",
       "3         Afrikaans      af\n",
       "4              Akan      ak\n",
       "..              ...     ...\n",
       "187           Xhosa      xh\n",
       "188         Yiddish  yi, ji\n",
       "189          Yoruba      yo\n",
       "190  Zhuang, Chuang      za\n",
       "191            Zulu      zu\n",
       "\n",
       "[192 rows x 2 columns]"
      ],
      "text/html": "<div>\n<style scoped>\n    .dataframe tbody tr th:only-of-type {\n        vertical-align: middle;\n    }\n\n    .dataframe tbody tr th {\n        vertical-align: top;\n    }\n\n    .dataframe thead th {\n        text-align: right;\n    }\n</style>\n<table border=\"1\" class=\"dataframe\">\n  <thead>\n    <tr style=\"text-align: right;\">\n      <th></th>\n      <th>Language</th>\n      <th>Tag</th>\n    </tr>\n  </thead>\n  <tbody>\n    <tr>\n      <th>0</th>\n      <td>NaN</td>\n      <td>NaN</td>\n    </tr>\n    <tr>\n      <th>1</th>\n      <td>Abkhazian</td>\n      <td>ab</td>\n    </tr>\n    <tr>\n      <th>2</th>\n      <td>Afar</td>\n      <td>aa</td>\n    </tr>\n    <tr>\n      <th>3</th>\n      <td>Afrikaans</td>\n      <td>af</td>\n    </tr>\n    <tr>\n      <th>4</th>\n      <td>Akan</td>\n      <td>ak</td>\n    </tr>\n    <tr>\n      <th>...</th>\n      <td>...</td>\n      <td>...</td>\n    </tr>\n    <tr>\n      <th>187</th>\n      <td>Xhosa</td>\n      <td>xh</td>\n    </tr>\n    <tr>\n      <th>188</th>\n      <td>Yiddish</td>\n      <td>yi, ji</td>\n    </tr>\n    <tr>\n      <th>189</th>\n      <td>Yoruba</td>\n      <td>yo</td>\n    </tr>\n    <tr>\n      <th>190</th>\n      <td>Zhuang, Chuang</td>\n      <td>za</td>\n    </tr>\n    <tr>\n      <th>191</th>\n      <td>Zulu</td>\n      <td>zu</td>\n    </tr>\n  </tbody>\n</table>\n<p>192 rows × 2 columns</p>\n</div>"
     },
     "metadata": {},
     "execution_count": 12
    }
   ],
   "source": [
    "ltgs=pd.read_csv(\"ltgs.csv\")"
   ]
  },
  {
   "cell_type": "code",
   "execution_count": 18,
   "metadata": {},
   "outputs": [
    {
     "output_type": "stream",
     "name": "stdout",
     "text": [
      "1\n2\n3\n4\n5\n6\n7\n8\n9\n10\n11\n"
     ]
    }
   ],
   "source": [
    "i=0\n",
    "for row in ltgs.rows:\n",
    "    for c in row:\n",
    "        if(c==langugePresent[0]):\n",
    "            print(\"Match\")\n",
    "        else:\n",
    "            i=i+1\n",
    "            print(i)"
   ]
  },
  {
   "cell_type": "code",
   "execution_count": 38,
   "metadata": {},
   "outputs": [],
   "source": [
    "for i in range(len(ltgs)):\n",
    "    for j in range(len(langugePresent)):\n",
    "        if(str(ltgs.loc[i,\"Language\"]).lower() == langugePresent[j].lower()):\n",
    "            langugePresent[j]=ltgs.loc[i,\"Tag\"]\n"
   ]
  },
  {
   "cell_type": "code",
   "execution_count": 44,
   "metadata": {},
   "outputs": [],
   "source": [
    "df.lang=langugePresent\n",
    "df.to_csv(\"inputinlanguagetag.csv\")"
   ]
  }
 ]
}